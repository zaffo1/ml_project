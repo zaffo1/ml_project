{
 "cells": [
  {
   "cell_type": "code",
   "execution_count": 69,
   "metadata": {},
   "outputs": [],
   "source": [
    "import numpy as np\n",
    "from sklearn.svm import SVC\n",
    "import torch\n",
    "from sklearn.model_selection import KFold, StratifiedKFold\n",
    "from itertools import product\n",
    "import pandas as pd\n",
    "from sklearn.preprocessing import OneHotEncoder\n",
    "from sklearn.metrics import accuracy_score, confusion_matrix"
   ]
  },
  {
   "cell_type": "code",
   "execution_count": 70,
   "metadata": {},
   "outputs": [],
   "source": [
    "def mean_euclidean_error(vectors1, vectors2):\n",
    "    \"\"\"\n",
    "    Compute the mean Euclidean error between two sets of 3D vectors.\n",
    "\n",
    "    Parameters:\n",
    "    - vectors1: NumPy array of shape (N, 3) representing the first set of 3D vectors\n",
    "    - vectors2: NumPy array of shape (N, 3) representing the second set of 3D vectors\n",
    "\n",
    "    Returns:\n",
    "    - mean_error: Mean Euclidean error between the two sets of vectors\n",
    "    \"\"\"\n",
    "    # Check if the input arrays have the correct shape\n",
    "    if vectors1.shape != vectors2.shape or vectors1.shape[1] != 3:\n",
    "        raise ValueError(\"Input arrays must be of shape (N, 3)\")\n",
    "\n",
    "    # Compute Euclidean distance\n",
    "    euclidean_distance = np.linalg.norm(vectors1 - vectors2, axis=1)\n",
    "\n",
    "    # Calculate the mean Euclidean error\n",
    "    mean_error = np.mean(euclidean_distance)\n",
    "\n",
    "    return mean_error"
   ]
  },
  {
   "cell_type": "code",
   "execution_count": null,
   "metadata": {},
   "outputs": [],
   "source": [
    "def preprocess_monk(file_name):\n",
    "    '''\n",
    "    Load data from the Monk dataset and preprocess using one-hot encoding.\n",
    "\n",
    "    Parameters:\n",
    "    - file_name (str): The file name of the dataset.\n",
    "\n",
    "    Returns:\n",
    "    - x (torch.Tensor): Input data after one-hot encoding.\n",
    "    - y (torch.Tensor): Target data.\n",
    "    '''\n",
    "\n",
    "    # load the dataset, split into input (X) and output (y) variables\n",
    "    df = pd.read_csv(file_name, delimiter=' ', header=None,\n",
    "                     names=['_','target', 'x1', 'x2', 'x3', 'x4', 'x5', 'x6', 'data_number'],\n",
    "                     index_col=False)\n",
    "\n",
    "    # Extract input features and target variable\n",
    "    x1, x2, x3, x4, x5, x6, target = (np.array(df[feature]) for feature in ['x1', 'x2', 'x3', 'x4', 'x5', 'x6', 'target'])\n",
    "\n",
    "    # Initialize OneHotEncoder\n",
    "    encoder = OneHotEncoder(sparse_output=False)\n",
    "\n",
    "    # Reshape and transform x1 using one-hot encoding\n",
    "    input_one_hot = encoder.fit_transform(x1.reshape(-1, 1))\n",
    "\n",
    "    # Loop through the remaining input features and concatenate one-hot encoded values\n",
    "    for x in [x2,x3,x4,x5,x6]:\n",
    "        data =x.reshape(-1, 1)\n",
    "        one_hot_encoded = encoder.fit_transform(data)\n",
    "        input_one_hot = np.hstack((input_one_hot, one_hot_encoded))\n",
    "\n",
    "    # Convert to PyTorch tensors\n",
    "    x = torch.tensor(input_one_hot, dtype=torch.float32)#.cuda()\n",
    "    y = torch.tensor(target, dtype=torch.float32).reshape(-1,1)#.cuda()\n",
    "\n",
    "    return x, y"
   ]
  },
  {
   "cell_type": "code",
   "execution_count": 71,
   "metadata": {},
   "outputs": [],
   "source": [
    "from sklearn.model_selection import train_test_split\n",
    "# load the dataset, split into input (X) and output (y) variables\n",
    "dataset = np.loadtxt('ML-CUP23-TR.csv', delimiter=',')\n",
    "X = dataset[:,1:11]\n",
    "y = dataset[:,11:14]\n",
    "\n",
    "\n",
    "\n",
    "# Split the data into training and testing sets (80%/20%)\n",
    "X_train, X_test, y_train, y_test = train_test_split(X, y, test_size=0.2, random_state=42)"
   ]
  },
  {
   "cell_type": "code",
   "execution_count": 73,
   "metadata": {},
   "outputs": [],
   "source": [
    "def perform_grid_search_kfold(kernels, Cs, k_folds, x, y):\n",
    "    '''\n",
    "    Perform grid search with k-fold cross-validation for Monk classifier hyperparameters.\n",
    "\n",
    "    Parameters:\n",
    "    - hidden_sizes (list): List of hidden layer sizes to explore.\n",
    "    - learning_rates (list): List of learning rates to explore.\n",
    "    - momentums (list): List of momentum values to explore.\n",
    "    - batch_sizes (list): List of batch sizes to explore.\n",
    "    - reg_coeffs (list): List of regularization coefficients to explore.\n",
    "    - k_folds (int): Number of folds for cross-validation.\n",
    "    - x (torch.Tensor): Input data.\n",
    "    - y (torch.Tensor): Target data.\n",
    "    - plot_curves (bool): Whether to plot training curves for each hyperparameter combination (default: False).\n",
    "\n",
    "    Returns:\n",
    "    - best_hyperparams (list): List of best hyperparameters based on highest average validation accuracy.\n",
    "    '''\n",
    "\n",
    "    best_acc = 0\n",
    "    best_hyperparams = []\n",
    "\n",
    "    for kernel, C in product(kernels, Cs):\n",
    "        print('kernel:', kernel, 'C:',C)\n",
    "\n",
    "        kf = StratifiedKFold(n_splits=k_folds, shuffle=True, random_state=42)\n",
    "\n",
    "        # Lists to store training and validation losses and accuracies for each epoch\n",
    "        val_acc = []\n",
    "        svm_classifier_rbf = SVC(kernel='rbf', C=C)\n",
    "        # Perform K-fold cross-validation\n",
    "        for fold, (train_indices, val_indices) in enumerate(kf.split(x,y)):\n",
    "            #print(f\"\\nFold {fold + 1}/{k_folds}\")\n",
    "\n",
    "            # Split the data into training and validation (or test) sets\n",
    "            X_train, X_val = x[train_indices], x[val_indices]\n",
    "            Y_train, Y_val = y[train_indices], y[val_indices]\n",
    "\n",
    "            svm_classifier_rbf.fit(X_train, Y_train)\n",
    "            y_pred_rbf = svm_classifier_rbf.predict(X_val)\n",
    "            accuracy_rbf = accuracy_score(Y_val, y_pred_rbf)\n",
    "\n",
    "            val_acc.append(accuracy_rbf)\n",
    "\n",
    "        print(f'Final Results: hidden_size={hidden_size}; lr={learning_rate}; alpha = {momentum}; batch size = {bs}; lambda = {reg_coeff} --> '\n",
    "            f'train_loss = {np.mean(train_losses):.4} +- {np.std(train_losses):.4} | '\n",
    "            f'val_loss = {np.mean(val_losses):.4} +- {np.std(val_losses):.4}'\n",
    "            f'train_acc = {np.mean(train_acc):.4} +- {np.std(train_acc):.4} | '\n",
    "            f'val_acc = {np.mean(val_acc):.4} +- {np.std(val_acc):.4}')\n",
    "\n",
    "        if np.mean(val_acc) >= best_acc:\n",
    "            best_acc = np.mean(val_acc)\n",
    "            best_hyperparams = [hidden_size, learning_rate, momentum, bs, reg_coeff]\n",
    "\n",
    "    print(best_hyperparams)\n",
    "    return best_hyperparams"
   ]
  },
  {
   "cell_type": "code",
   "execution_count": 74,
   "metadata": {},
   "outputs": [],
   "source": [
    "def plot_mean_std(cs,mee,std):\n",
    "\n",
    "    plt.figure(figsize=(9, 8))\n",
    "    plt.plot(cs,mee, label='MEE', color = 'green', linewidth=1)\n",
    "    plt.fill_between(cs,mee-std, mee+std, color='green', alpha=0.3)\n",
    "\n",
    "    plt.xlabel('C values')\n",
    "    plt.ylabel('MEE')\n",
    "    plt.legend()\n",
    "\n",
    "    plt.legend()\n",
    "    plt.show()\n"
   ]
  },
  {
   "cell_type": "markdown",
   "metadata": {},
   "source": [
    "# Perform Grid Search"
   ]
  },
  {
   "cell_type": "code",
   "execution_count": null,
   "metadata": {},
   "outputs": [],
   "source": [
    "x_train, y_train = preprocess_monk(file_name='monk_data/monks-1.train')\n",
    "x_test, y_test = preprocess_monk(file_name='monk_data/monks-1.test')"
   ]
  },
  {
   "cell_type": "code",
   "execution_count": 75,
   "metadata": {},
   "outputs": [
    {
     "name": "stdout",
     "output_type": "stream",
     "text": [
      "total number of grid search combinations explored: 1\n",
      "1/1 Hyperparams: rbf 3000 0.1\n"
     ]
    },
    {
     "name": "stdout",
     "output_type": "stream",
     "text": [
      "Final Results: kernel=rbf; C=3000; epsilon=0.1 --> val_mee = 0.6173 +- 0.06577\n",
      "Best Hp: ['rbf', 3000, 0.1] with MEE = 0.6172759223965806 +- 0.06576969897515686\n"
     ]
    }
   ],
   "source": [
    "'''\n",
    "#first coarse grid search\n",
    "kernels = ['rbf']\n",
    "Cs = [0.01,0.1,1,10,100,1000]\n",
    "epsilons = [0.01,0.1,1,10]\n",
    "#Best Hp: ['rbf', 1000, 0.1] with MEE = 0.6396615599226871 +- 0.04980493197143183\n",
    "'''\n",
    "\n",
    "'''\n",
    "#finer grid search\n",
    "kernels = ['rbf']\n",
    "Cs = [1000,2000,3000,4000,5000]\n",
    "epsilons = [0.1,0.2,0.3,0.4,0.5]\n",
    "# Best Hp: ['rbf', 3000, 0.1] with MEE = 0.6172759223965806 +- 0.06576969897515686\n",
    "'''\n",
    "\n",
    "#best hp untill now:\n",
    "kernels = ['rbf']\n",
    "Cs = [3000]\n",
    "epsilons = [0.1]\n",
    "\n",
    "best_hyperparams = perform_grid_search_kfold(kernels,\n",
    "                          Cs,\n",
    "                          epsilons,\n",
    "                          k_folds=3,\n",
    "                          x=X_train,\n",
    "                          y=y_train)"
   ]
  },
  {
   "cell_type": "markdown",
   "metadata": {},
   "source": [
    "Study the effect of the parameter C"
   ]
  },
  {
   "cell_type": "code",
   "execution_count": 76,
   "metadata": {},
   "outputs": [
    {
     "name": "stdout",
     "output_type": "stream",
     "text": [
      "total number of grid search combinations explored: 45\n",
      "1/45 Hyperparams: rbf 1000 0.1\n",
      "Final Results: kernel=rbf; C=1000; epsilon=0.1 --> val_mee = 0.6397 +- 0.0498\n",
      "2/45 Hyperparams: rbf 1200 0.1\n",
      "Final Results: kernel=rbf; C=1200; epsilon=0.1 --> val_mee = 0.6319 +- 0.05173\n",
      "3/45 Hyperparams: rbf 1400 0.1\n",
      "Final Results: kernel=rbf; C=1400; epsilon=0.1 --> val_mee = 0.6262 +- 0.0549\n",
      "4/45 Hyperparams: rbf 1600 0.1\n",
      "Final Results: kernel=rbf; C=1600; epsilon=0.1 --> val_mee = 0.623 +- 0.05622\n",
      "5/45 Hyperparams: rbf 1800 0.1\n",
      "Final Results: kernel=rbf; C=1800; epsilon=0.1 --> val_mee = 0.6202 +- 0.05758\n",
      "6/45 Hyperparams: rbf 2000 0.1\n",
      "Final Results: kernel=rbf; C=2000; epsilon=0.1 --> val_mee = 0.6185 +- 0.0589\n",
      "7/45 Hyperparams: rbf 2200 0.1\n",
      "Final Results: kernel=rbf; C=2200; epsilon=0.1 --> val_mee = 0.6172 +- 0.06056\n",
      "8/45 Hyperparams: rbf 2400 0.1\n",
      "Final Results: kernel=rbf; C=2400; epsilon=0.1 --> val_mee = 0.6169 +- 0.06202\n",
      "9/45 Hyperparams: rbf 2600 0.1\n",
      "Final Results: kernel=rbf; C=2600; epsilon=0.1 --> val_mee = 0.6165 +- 0.06315\n",
      "10/45 Hyperparams: rbf 2800 0.1\n",
      "Final Results: kernel=rbf; C=2800; epsilon=0.1 --> val_mee = 0.6164 +- 0.06414\n",
      "11/45 Hyperparams: rbf 3000 0.1\n",
      "Final Results: kernel=rbf; C=3000; epsilon=0.1 --> val_mee = 0.6173 +- 0.06577\n",
      "12/45 Hyperparams: rbf 3200 0.1\n",
      "Final Results: kernel=rbf; C=3200; epsilon=0.1 --> val_mee = 0.6179 +- 0.06723\n",
      "13/45 Hyperparams: rbf 3400 0.1\n",
      "Final Results: kernel=rbf; C=3400; epsilon=0.1 --> val_mee = 0.6184 +- 0.0682\n",
      "14/45 Hyperparams: rbf 3600 0.1\n",
      "Final Results: kernel=rbf; C=3600; epsilon=0.1 --> val_mee = 0.6187 +- 0.06917\n",
      "15/45 Hyperparams: rbf 3800 0.1\n",
      "Final Results: kernel=rbf; C=3800; epsilon=0.1 --> val_mee = 0.619 +- 0.07003\n",
      "16/45 Hyperparams: rbf 4000 0.1\n",
      "Final Results: kernel=rbf; C=4000; epsilon=0.1 --> val_mee = 0.6195 +- 0.07081\n",
      "17/45 Hyperparams: rbf 4200 0.1\n",
      "Final Results: kernel=rbf; C=4200; epsilon=0.1 --> val_mee = 0.6202 +- 0.07141\n",
      "18/45 Hyperparams: rbf 4400 0.1\n",
      "Final Results: kernel=rbf; C=4400; epsilon=0.1 --> val_mee = 0.6208 +- 0.07174\n",
      "19/45 Hyperparams: rbf 4600 0.1\n",
      "Final Results: kernel=rbf; C=4600; epsilon=0.1 --> val_mee = 0.6213 +- 0.07222\n",
      "20/45 Hyperparams: rbf 4800 0.1\n"
     ]
    }
   ],
   "source": [
    "kernels = ['rbf']\n",
    "Cs = np.arange(1000, 10000, 200)\n",
    "epsilons = [0.1]\n",
    "\n",
    "\n",
    "best_hyperparams, mees, mees_sd = perform_grid_search_kfold(kernels,\n",
    "                          C05s,\n",
    "                          epsilons,\n",
    "                          k_folds=3,\n",
    "                          x=X_train,\n",
    "                          y=y_train,\n",
    "                          return_sequence=True)"
   ]
  },
  {
   "cell_type": "code",
   "execution_count": null,
   "metadata": {},
   "outputs": [
    {
     "data": {
      "image/png": "[encoded data removed]",
      "text/plain": [
       "<Figure size 900x800 with 1 Axes>"
      ]
     },
     "metadata": {},
     "output_type": "display_data"
    }
   ],
   "source": [
    "plot_mean_std(Cs,mees,mees_sd)"
   ]
  },
  {
   "cell_type": "markdown",
   "metadata": {},
   "source": [
    "# Train the final model on all the training data"
   ]
  },
  {
   "cell_type": "code",
   "execution_count": null,
   "metadata": {},
   "outputs": [
    {
     "name": "stdout",
     "output_type": "stream",
     "text": [
      "1.0519287309492602\n"
     ]
    }
   ],
   "source": [
    "model = MultiSVM(*best_hyperparams)\n",
    "model.fit(X_train,y_train)\n",
    "print(mean_euclidean_error(model.predict(X_test),y_test))"
   ]
  }
 ],
 "metadata": {
  "kernelspec": {
   "display_name": "env_ml",
   "language": "python",
   "name": "python3"
  },
  "language_info": {
   "codemirror_mode": {
    "name": "ipython",
    "version": 3
   },
   "file_extension": ".py",
   "mimetype": "text/x-python",
   "name": "python",
   "nbconvert_exporter": "python",
   "pygments_lexer": "ipython3",
   "version": "3.10.12"
  }
 },
 "nbformat": 4,
 "nbformat_minor": 2
}
