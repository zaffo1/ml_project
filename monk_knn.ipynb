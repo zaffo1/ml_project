{
 "cells": [
  {
   "cell_type": "markdown",
   "metadata": {},
   "source": [
    "# Monk - SVM\n",
    "In this notebook we apply SVMs to solve the Monk 1, Monk 2 and Monk 3 benchmarks"
   ]
  },
  {
   "cell_type": "code",
   "execution_count": null,
   "metadata": {},
   "outputs": [],
   "source": [
    "import numpy as np\n",
    "import torch\n",
    "import pandas as pd\n",
    "from sklearn.preprocessing import OneHotEncoder\n",
    "from sklearn.metrics import accuracy_score"
   ]
  },
  {
   "cell_type": "code",
   "execution_count": null,
   "metadata": {},
   "outputs": [],
   "source": [
    "def preprocess_monk(file_name):\n",
    "    '''\n",
    "    Load data from the Monk dataset and preprocess using one-hot encoding.\n",
    "\n",
    "    Parameters:\n",
    "    - file_name (str): The file name of the dataset.\n",
    "\n",
    "    Returns:\n",
    "    - x (torch.Tensor): Input data after one-hot encoding.\n",
    "    - y (torch.Tensor): Target data.\n",
    "    '''\n",
    "\n",
    "    # load the dataset, split into input (X) and output (y) variables\n",
    "    df = pd.read_csv(file_name, delimiter=' ', header=None,\n",
    "                     names=['_','target', 'x1', 'x2', 'x3', 'x4', 'x5', 'x6', 'data_number'],\n",
    "                     index_col=False)\n",
    "\n",
    "    # Extract input features and target variable\n",
    "    x1, x2, x3, x4, x5, x6, target = (np.array(df[feature]) for feature in ['x1', 'x2', 'x3', 'x4', 'x5', 'x6', 'target'])\n",
    "\n",
    "    # Initialize OneHotEncoder\n",
    "    encoder = OneHotEncoder(sparse_output=False)\n",
    "\n",
    "    # Reshape and transform x1 using one-hot encoding\n",
    "    input_one_hot = encoder.fit_transform(x1.reshape(-1, 1))\n",
    "\n",
    "    # Loop through the remaining input features and concatenate one-hot encoded values\n",
    "    for x in [x2,x3,x4,x5,x6]:\n",
    "        data =x.reshape(-1, 1)\n",
    "        one_hot_encoded = encoder.fit_transform(data)\n",
    "        input_one_hot = np.hstack((input_one_hot, one_hot_encoded))\n",
    "\n",
    "    # Convert to PyTorch tensors\n",
    "    x = torch.tensor(input_one_hot, dtype=torch.float32)#.cuda()\n",
    "    y = torch.tensor(target, dtype=torch.float32).reshape(-1,1)#.cuda()\n",
    "\n",
    "    return x, y"
   ]
  },
  {
   "cell_type": "code",
   "execution_count": null,
   "metadata": {},
   "outputs": [],
   "source": [
    "from sklearn.neighbors import KNeighborsClassifier\n",
    "from sklearn.model_selection import cross_val_score, StratifiedKFold\n",
    "from itertools import product\n",
    "\n",
    "def perform_grid_search_kfold(ks, weightss, ps, k_folds, X, y):\n",
    "    \"\"\"\n",
    "    Perform grid search to find the best hyperparameters for K-Nearest Neighbors Classifier\n",
    "    using K-Fold cross-validation based on accuracy.\n",
    "\n",
    "    Iterate over all combinations of specified hyperparameters,\n",
    "    evaluates performance using K-Fold cross-validation, and identify the best combination based\n",
    "    on the highest accuracy.\n",
    "\n",
    "    Parameters:\n",
    "    - ks (list): A list of integer values to try for 'n_neighbors' in KNN.\n",
    "    - weightss (list): A list of weight options (e.g., 'uniform', 'distance') to try in KNN.\n",
    "    - ps (list): A list of integer values to try for the 'p' parameter in KNN (power parameter for the Minkowski metric).\n",
    "    - k_folds (int): The number of folds for K-Fold cross-validation.\n",
    "    - X (array-like): Feature dataset for training the model.\n",
    "    - y (array-like): Target variable dataset for training the model.\n",
    "\n",
    "    Returns:\n",
    "    - final_model (KNeighborsClassifier object): The trained KNN classifier model with the best found hyperparameters.\n",
    "    - (best_k, best_weight, best_p) (tuple): The best combination of hyperparameters found.\n",
    "    - (accuracies_mean, accuracies_sd) (tuple): Lists of mean and standard deviation of accuracy for each hyperparameter combination.\n",
    "\n",
    "    The function prints the accuracy for each combination of hyperparameters during the grid search and\n",
    "    finally the best hyperparameters with their corresponding accuracy.\n",
    "    \"\"\"\n",
    "    accuracies_mean = []\n",
    "    accuracies_sd = []\n",
    "    best_k = None\n",
    "    best_score = 0\n",
    "\n",
    "    # K-Fold cross-validation\n",
    "    kf = StratifiedKFold(n_splits=k_folds, shuffle=True, random_state=42)\n",
    "\n",
    "    # Trying different combinations of hyperparams\n",
    "    for k, weights, p in product(ks, weightss, ps):\n",
    "        model = KNeighborsClassifier(n_neighbors=k, weights=weights, p=p)\n",
    "        scores = cross_val_score(model, X, y, cv=kf, scoring='accuracy')\n",
    "        mean_score = scores.mean()\n",
    "        accuracies_mean.append(mean_score)\n",
    "        accuracies_sd.append(scores.std())\n",
    "        print(f\"k={k}, weights={weights}, p={p}, Accuracy: {mean_score:.4f}\")\n",
    "\n",
    "        if mean_score > best_score:\n",
    "            best_k = k\n",
    "            best_weight = weights\n",
    "            best_p = p\n",
    "            best_score = mean_score\n",
    "\n",
    "    print(f\"The best parameters are k={best_k}, weights={best_weight}, p={best_p} with an accuracy of {best_score:.4f}\")\n",
    "\n",
    "    # Train the final model with the best parameters\n",
    "    final_model = KNeighborsClassifier(n_neighbors=best_k, weights=best_weight, p=best_p)\n",
    "    final_model.fit(X, y)\n",
    "\n",
    "    return final_model, (best_k, best_weight, best_p), (accuracies_mean, accuracies_sd)\n"
   ]
  },
  {
   "cell_type": "markdown",
   "metadata": {},
   "source": [
    "# MONK 1"
   ]
  },
  {
   "cell_type": "code",
   "execution_count": null,
   "metadata": {},
   "outputs": [],
   "source": [
    "X_train, y_train = preprocess_monk(file_name='monk_data/monks-1.train')\n",
    "X_test, y_test = preprocess_monk(file_name='monk_data/monks-1.test')\n",
    "\n",
    "print(X_train.shape)\n",
    "print(y_train.shape)\n",
    "\n",
    "print(X_test.shape)\n",
    "print(y_test.shape)"
   ]
  },
  {
   "cell_type": "code",
   "execution_count": null,
   "metadata": {},
   "outputs": [],
   "source": [
    "# Grid Search\n",
    "ks = range(1, 31)\n",
    "weightss=['uniform','distance']\n",
    "ps = range(1,10)\n",
    "_, best_hp, _ = perform_grid_search_kfold(ks,weightss,ps,k_folds=3,X=X_train,y=y_train.ravel())"
   ]
  },
  {
   "cell_type": "code",
   "execution_count": null,
   "metadata": {},
   "outputs": [],
   "source": [
    "#final model\n",
    "model = KNeighborsClassifier(n_neighbors= best_hp[0], weights= best_hp[1], p= best_hp[2])\n",
    "model.fit(X_train, y_train.ravel())\n",
    "print(f'Training Accuracy = {accuracy_score(model.predict(X_train),y_train)}')\n",
    "print(f'Test Accuracy = {accuracy_score(model.predict(X_test),y_test)}')"
   ]
  },
  {
   "cell_type": "markdown",
   "metadata": {},
   "source": [
    "# MONK 2"
   ]
  },
  {
   "cell_type": "code",
   "execution_count": null,
   "metadata": {},
   "outputs": [],
   "source": [
    "X_train, y_train = preprocess_monk(file_name='monk_data/monks-2.train')\n",
    "X_test, y_test = preprocess_monk(file_name='monk_data/monks-2.test')\n",
    "\n",
    "print(X_train.shape)\n",
    "print(y_train.shape)\n",
    "\n",
    "print(X_test.shape)\n",
    "print(y_test.shape)"
   ]
  },
  {
   "cell_type": "code",
   "execution_count": null,
   "metadata": {},
   "outputs": [],
   "source": [
    "# Grid Search\n",
    "ks = range(1, 31)\n",
    "weightss=['uniform','distance']\n",
    "ps = range(1,10)\n",
    "_, best_hp, _ = perform_grid_search_kfold(ks,weightss,ps,k_folds=3,X=X_train,y=y_train.ravel())"
   ]
  },
  {
   "cell_type": "code",
   "execution_count": null,
   "metadata": {},
   "outputs": [],
   "source": [
    "#final model\n",
    "model = KNeighborsClassifier(n_neighbors= best_hp[0], weights= best_hp[1], p= best_hp[2])\n",
    "model.fit(X_train, y_train.ravel())\n",
    "print(f'Training Accuracy = {accuracy_score(model.predict(X_train),y_train)}')\n",
    "print(f'Test Accuracy = {accuracy_score(model.predict(X_test),y_test)}')"
   ]
  },
  {
   "cell_type": "markdown",
   "metadata": {},
   "source": [
    "# MONK 3"
   ]
  },
  {
   "cell_type": "code",
   "execution_count": null,
   "metadata": {},
   "outputs": [],
   "source": [
    "X_train, y_train = preprocess_monk(file_name='monk_data/monks-3.train')\n",
    "X_test, y_test = preprocess_monk(file_name='monk_data/monks-3.test')\n",
    "\n",
    "print(X_train.shape)\n",
    "print(y_train.shape)\n",
    "\n",
    "print(X_test.shape)\n",
    "print(y_test.shape)"
   ]
  },
  {
   "cell_type": "code",
   "execution_count": null,
   "metadata": {},
   "outputs": [],
   "source": [
    "# Grid Search\n",
    "ks = range(1, 31)\n",
    "weightss=['uniform','distance']\n",
    "ps = range(1,10)\n",
    "_, best_hp, _ = perform_grid_search_kfold(ks,weightss,ps,k_folds=3,X=X_train,y=y_train.ravel())"
   ]
  },
  {
   "cell_type": "code",
   "execution_count": null,
   "metadata": {},
   "outputs": [],
   "source": [
    "#final model\n",
    "model = KNeighborsClassifier(n_neighbors= best_hp[0], weights= best_hp[1], p= best_hp[2])\n",
    "model.fit(X_train, y_train.ravel())\n",
    "print(f'Training Accuracy = {accuracy_score(model.predict(X_train),y_train)}')\n",
    "print(f'Test Accuracy = {accuracy_score(model.predict(X_test),y_test)}')"
   ]
  }
 ],
 "metadata": {
  "kernelspec": {
   "display_name": "env_ml",
   "language": "python",
   "name": "python3"
  },
  "language_info": {
   "codemirror_mode": {
    "name": "ipython",
    "version": 3
   },
   "file_extension": ".py",
   "mimetype": "text/x-python",
   "name": "python",
   "nbconvert_exporter": "python",
   "pygments_lexer": "ipython3",
   "version": "3.10.12"
  }
 },
 "nbformat": 4,
 "nbformat_minor": 2
}
