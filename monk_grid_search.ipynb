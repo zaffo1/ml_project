{
 "cells": [
  {
   "cell_type": "code",
   "execution_count": 9,
   "metadata": {},
   "outputs": [],
   "source": [
    "import numpy as np\n",
    "import torch\n",
    "import torch.nn as nn\n",
    "import torch.optim as optim\n",
    "from matplotlib import pyplot as plt\n",
    "from sklearn.model_selection import KFold, StratifiedKFold\n",
    "from itertools import product\n",
    "import pandas as pd\n",
    "from sklearn.preprocessing import OneHotEncoder"
   ]
  },
  {
   "cell_type": "markdown",
   "metadata": {},
   "source": [
    "Check for GPU availability"
   ]
  },
  {
   "cell_type": "code",
   "execution_count": 10,
   "metadata": {},
   "outputs": [
    {
     "name": "stdout",
     "output_type": "stream",
     "text": [
      "cuda:0\n"
     ]
    }
   ],
   "source": [
    "torch.cuda.is_available()\n",
    "\n",
    "device = torch.device(\"cuda:0\" if torch.cuda.is_available() else \"cpu\")\n",
    "print(device)"
   ]
  },
  {
   "cell_type": "code",
   "execution_count": 11,
   "metadata": {},
   "outputs": [],
   "source": [
    "def preprocess_monk(file_name):\n",
    "    '''\n",
    "    function to load data from the monk dataset\n",
    "    and preproces using one-hot encoding\n",
    "    '''\n",
    "\n",
    "    # load the dataset, split into input (X) and output (y) variables\n",
    "    df = pd.read_csv(file_name, delimiter=' ', header=None, names=['remove_this_column','target', 'x1', 'x2', 'x3', 'x4', 'x5', 'x6', 'data_number'], index_col=False)\n",
    "    df.drop(columns='remove_this_column')\n",
    "\n",
    "    x1 = np.array(df['x1'])\n",
    "    x2 = np.array(df['x2'])\n",
    "    x3 = np.array(df['x3'])\n",
    "    x4 = np.array(df['x4'])\n",
    "    x5 = np.array(df['x5'])\n",
    "    x6 = np.array(df['x6'])\n",
    "    target = np.array(df['target'])\n",
    "\n",
    "    encoder = OneHotEncoder(sparse_output=False)\n",
    "\n",
    "    x1_ =x1.reshape(-1, 1)\n",
    "\n",
    "    # Fit and transform the data to one-hot encoding\n",
    "    input_one_hot = encoder.fit_transform(x1_)\n",
    "    inputs = [x2,x3,x4,x5,x6]\n",
    "\n",
    "    for x in inputs:\n",
    "        data =x.reshape(-1, 1)\n",
    "        # Fit and transform the data to one-hot encoding\n",
    "        one_hot_encoded = encoder.fit_transform(data)\n",
    "        input_one_hot = np.hstack((input_one_hot, one_hot_encoded))\n",
    "\n",
    "    x = torch.tensor(input_one_hot, dtype=torch.float32)#.cuda()\n",
    "    y = torch.tensor(target, dtype=torch.float32).reshape(-1,1)#.cuda()\n",
    "\n",
    "    return x, y"
   ]
  },
  {
   "cell_type": "markdown",
   "metadata": {},
   "source": [
    "Define the model"
   ]
  },
  {
   "cell_type": "code",
   "execution_count": 12,
   "metadata": {},
   "outputs": [],
   "source": [
    "# Define the classifier\n",
    "class SimpleClassifier(nn.Module):\n",
    "    def __init__(self, input_size, hidden_size, output_size):\n",
    "        super(SimpleClassifier, self).__init__()\n",
    "        self.fc1 = nn.Linear(input_size, hidden_size)\n",
    "        self.relu = nn.ReLU()\n",
    "        self.fc2 = nn.Linear(hidden_size, output_size)\n",
    "        self.sigmoid = nn.Sigmoid()\n",
    "\n",
    "    def forward(self, x):\n",
    "        x = self.fc1(x)\n",
    "        x = self.relu(x)\n",
    "        x = self.fc2(x)\n",
    "        output = self.sigmoid(x)\n",
    "        return output\n",
    "\n",
    "# Set hyperparameters\n",
    "input_size = 17\n",
    "output_size = 1"
   ]
  },
  {
   "cell_type": "code",
   "execution_count": 13,
   "metadata": {},
   "outputs": [],
   "source": [
    "def training_model(x_train, y_train, x_test, y_test, hidden_size,learning_rate, momentum, bs, reg_coeff, num_epochs=1000, plot_curves=False):\n",
    "    '''\n",
    "    function that performs training of the model\n",
    "    '''\n",
    "\n",
    "    # Create an instance of the model\n",
    "    model = SimpleClassifier(input_size, hidden_size, output_size)\n",
    "    #model.to(device)\n",
    "    # Define the loss function and optimizer\n",
    "    criterion = nn.MSELoss()\n",
    "    optimizer = optim.SGD(model.parameters(), lr=learning_rate, momentum=momentum, weight_decay=reg_coeff)\n",
    "\n",
    "    train_dataset = torch.utils.data.TensorDataset(x_train, y_train)\n",
    "    test_dataset = torch.utils.data.TensorDataset(x_test, y_test)\n",
    "\n",
    "    train_dataloader = torch.utils.data.DataLoader(train_dataset, batch_size=bs, shuffle=True)\n",
    "    test_dataloader = torch.utils.data.DataLoader(test_dataset, batch_size=bs, shuffle=False)\n",
    "\n",
    "    if plot_curves:\n",
    "        # Lists to store training and test losses for plotting\n",
    "        train_losses = []\n",
    "        test_losses = []\n",
    "        train_accuracies = []\n",
    "        test_accuracies = []\n",
    "\n",
    "    # parameters to stop at training convergence\n",
    "    prev_loss = float('inf')\n",
    "    patience_counter = 0\n",
    "    patience = 10\n",
    "\n",
    "    for epoch in range(num_epochs):\n",
    "        total_loss = 0.0\n",
    "        total_accuracy = 0.0\n",
    "        # Mini-batch training\n",
    "\n",
    "        model.train()  # Set the model to training mode\n",
    "        for inputs, labels in train_dataloader:\n",
    "            optimizer.zero_grad()   # Zero the gradients\n",
    "            outputs = model(inputs)  # Forward pass\n",
    "            loss = criterion(outputs, labels)   # Compute the loss\n",
    "            loss.backward() # Backward pass\n",
    "            optimizer.step()    # Update weights\n",
    "\n",
    "\n",
    "            prev_loss = loss.item()\n",
    "            # Accumulate the total loss for this epoch\n",
    "            total_loss += loss.item()\n",
    "\n",
    "            # Calculate training accuracy\n",
    "            predicted_labels = torch.round(outputs)\n",
    "            correct_predictions = (predicted_labels == labels).sum().item()\n",
    "            total_samples = labels.size(0)\n",
    "            total_accuracy += correct_predictions / total_samples\n",
    "\n",
    "        # Print average training loss and accuracy for the epoch\n",
    "        average_loss = total_loss / len(train_dataloader)\n",
    "        average_accuracy = total_accuracy / len(train_dataloader)\n",
    "\n",
    "        #print(f'Training - Epoch [{epoch+1}/{num_epochs}], Loss: {average_loss:.4f}, '\n",
    "        #      f'Accuracy: {average_accuracy:.4f}')\n",
    "\n",
    "        if plot_curves:\n",
    "            train_losses.append(average_loss)\n",
    "            train_accuracies.append(average_accuracy)\n",
    "\n",
    "        # Evaluation on the test set\n",
    "        model.eval()  # Set the model to evaluation mode\n",
    "        with torch.no_grad():\n",
    "            total_test_loss = 0.0\n",
    "            total_test_accuracy = 0.0\n",
    "            for test_inputs, test_labels in test_dataloader:\n",
    "                test_outputs = model(test_inputs)\n",
    "                test_loss = criterion(test_outputs, test_labels)\n",
    "                total_test_loss += test_loss.item()\n",
    "\n",
    "                # Calculate test accuracy\n",
    "                predicted_labels = torch.round(test_outputs)\n",
    "                correct_predictions = (predicted_labels == test_labels).sum().item()\n",
    "                total_samples = test_labels.size(0)\n",
    "                total_test_accuracy += correct_predictions / total_samples\n",
    "\n",
    "            average_test_loss = total_test_loss / len(test_dataloader)\n",
    "            average_test_accuracy = total_test_accuracy / len(test_dataloader)\n",
    "\n",
    "            #print(f'Test - Epoch [{epoch+1}/{num_epochs}], Loss: {average_test_loss:.4f},'\n",
    "            #       f'Accuracy: {average_test_accuracy:.4f}')\n",
    "\n",
    "            if plot_curves:\n",
    "                test_accuracies.append(average_test_accuracy)\n",
    "                test_losses.append(average_test_loss)\n",
    "\n",
    "        # Check for convergence\n",
    "        if abs(prev_loss - average_loss) < 1e-3:\n",
    "            patience_counter += 1\n",
    "        else:\n",
    "            patience_counter = 0\n",
    "\n",
    "        if patience_counter == patience:\n",
    "        #    print(f\"Convergence reached. at epoch {epoch+1} Stopping training.\")\n",
    "            break\n",
    "        #epochs_reached = epoch+2\n",
    "        prev_loss = average_loss\n",
    "\n",
    "    print(f'N. Epochs = {epoch+1} - Loss (train | test)= ({average_loss:.4} | {average_test_loss:.4}) - Accuracy (train | test) = ({average_accuracy} | {average_test_accuracy})')\n",
    "\n",
    "    if plot_curves:\n",
    "        # Plot the training and test losses\n",
    "        plt.figure(figsize=(12, 4))\n",
    "\n",
    "        # Loss plots\n",
    "        plt.subplot(1, 2, 1)\n",
    "        plt.plot(range(1, epoch + 2), train_losses, label='Training Loss')\n",
    "        plt.plot(range(1, epoch + 2), test_losses, label='Test Loss')\n",
    "        plt.xlabel('Epoch')\n",
    "        plt.ylabel('Loss')\n",
    "        plt.legend()\n",
    "\n",
    "        # Accuracy plots\n",
    "        plt.subplot(1, 2, 2)\n",
    "        plt.plot(range(1, epoch + 2), train_accuracies, label='Training Accuracy')\n",
    "        plt.plot(range(1, epoch + 2), test_accuracies, label='Test Accuracy')\n",
    "        plt.xlabel('Epoch')\n",
    "        plt.ylabel('Accuracy')\n",
    "        plt.legend()\n",
    "\n",
    "        plt.tight_layout()\n",
    "        plt.show()\n",
    "\n",
    "    return epoch+1, average_loss, average_test_loss, average_accuracy, average_test_accuracy"
   ]
  },
  {
   "cell_type": "markdown",
   "metadata": {},
   "source": [
    "# Monk 1"
   ]
  },
  {
   "cell_type": "code",
   "execution_count": 14,
   "metadata": {},
   "outputs": [
    {
     "name": "stdout",
     "output_type": "stream",
     "text": [
      "torch.Size([124, 17])\n",
      "torch.Size([124, 1])\n",
      "torch.Size([432, 17])\n",
      "torch.Size([432, 1])\n"
     ]
    }
   ],
   "source": [
    "x_train, y_train = preprocess_monk(file_name='monk_data/monks-1.train')\n",
    "x_test, y_test = preprocess_monk(file_name='monk_data/monks-1.test')\n",
    "\n",
    "print(x_train.shape)\n",
    "print(y_train.shape)\n",
    "\n",
    "print(x_test.shape)\n",
    "print(y_test.shape)"
   ]
  },
  {
   "cell_type": "code",
   "execution_count": 19,
   "metadata": {},
   "outputs": [],
   "source": [
    "\n",
    "\n",
    "\n",
    "def perform_kfold(hidden_sizes, learning_rates, momentums, batch_sizes, reg_coeffs, k_folds, x, y, plot_curves=False):\n",
    "    best_acc = 0\n",
    "    best_hyperparams = []\n",
    "\n",
    "    for hidden_size, learning_rate, momentum, bs, reg_coeff in product(hidden_sizes,learning_rates,momentums,batch_sizes, reg_coeffs):\n",
    "        print(f'hidden_size={hidden_size}; lr={learning_rate}; alpha = {momentum}; batch size = {bs}; lambda = {reg_coeff}')\n",
    "\n",
    "        kf = StratifiedKFold(n_splits=k_folds, shuffle=True, random_state=42)\n",
    "\n",
    "        # Lists to store training and validation losses and accuracies for each epoch\n",
    "        train_losses = []\n",
    "        val_losses = []\n",
    "        train_acc = []\n",
    "        val_acc = []\n",
    "\n",
    "        # Perform K-fold cross-validation\n",
    "        for fold, (train_indices, val_indices) in enumerate(kf.split(x,y)):\n",
    "            #print(f\"\\nFold {fold + 1}/{k_folds}\")\n",
    "\n",
    "            # Split the data into training and validation (or test) sets\n",
    "            X_train, X_val = x[train_indices], x[val_indices]\n",
    "            Y_train, Y_val = y[train_indices], y[val_indices]\n",
    "\n",
    "            max_epoch, average_loss, average_val_loss, average_accuracy, average_val_accuracy = training_model(x_train=X_train,\n",
    "                                                                                                                    y_train=Y_train,\n",
    "                                                                                                                    x_test=X_val,\n",
    "                                                                                                                    y_test=Y_val,\n",
    "                                                                                                                    hidden_size=hidden_size,\n",
    "                                                                                                                    learning_rate=learning_rate,\n",
    "                                                                                                                    momentum=momentum,\n",
    "                                                                                                                    bs = bs,\n",
    "                                                                                                                    reg_coeff=reg_coeff,\n",
    "                                                                                                                    plot_curves=plot_curves)\n",
    "\n",
    "            train_losses.append(average_loss)\n",
    "            val_losses.append(average_val_loss)\n",
    "            train_acc.append(average_accuracy)\n",
    "            val_acc.append(average_val_accuracy)\n",
    "\n",
    "        print(f'Final Results: hidden_size={hidden_size}; lr={learning_rate}; alpha = {momentum}; batch size = {bs}; lambda = {reg_coeff} --> '\n",
    "            f'train_loss = {np.mean(train_losses):.4} +- {np.std(train_losses):.4} | '\n",
    "            f'val_loss = {np.mean(val_losses):.4} +- {np.std(val_losses):.4}'\n",
    "            f'train_acc = {np.mean(train_acc):.4} +- {np.std(train_acc):.4} | '\n",
    "            f'val_acc = {np.mean(val_acc):.4} +- {np.std(val_acc):.4}')\n",
    "\n",
    "        if np.mean(val_acc) >= best_acc:\n",
    "            best_acc = np.mean(val_acc)\n",
    "            best_hyperparams = [hidden_size, learning_rate, momentum, bs, reg_coeff]\n",
    "\n",
    "    print(best_hyperparams)\n",
    "    return best_hyperparams"
   ]
  },
  {
   "cell_type": "markdown",
   "metadata": {},
   "source": [
    "# Perform Model Selection"
   ]
  },
  {
   "cell_type": "code",
   "execution_count": 20,
   "metadata": {},
   "outputs": [
    {
     "name": "stdout",
     "output_type": "stream",
     "text": [
      "hidden_size=5; lr=0.2; alpha = 0.8; batch size = 8; lambda = 0\n",
      "N. Epochs = 125 - Loss (train | test)= (0.0009176 | 0.01171) - Accuracy (train | test) = (1.0 | 0.96875)\n",
      "N. Epochs = 142 - Loss (train | test)= (0.00062 | 0.04299) - Accuracy (train | test) = (1.0 | 0.9375)\n",
      "N. Epochs = 91 - Loss (train | test)= (0.0007157 | 0.001142) - Accuracy (train | test) = (1.0 | 1.0)\n",
      "N. Epochs = 53 - Loss (train | test)= (0.001015 | 0.00777) - Accuracy (train | test) = (1.0 | 1.0)\n",
      "N. Epochs = 71 - Loss (train | test)= (0.0009183 | 0.01071) - Accuracy (train | test) = (1.0 | 1.0)\n",
      "Final Results: hidden_size=5; lr=0.2; alpha = 0.8; batch size = 8; lambda = 0 --> train_loss = 0.0008373 +- 0.000146 | val_loss = 0.01486 +- 0.01454train_acc = 1.0 +- 0.0 | val_acc = 0.9812 +- 0.025\n",
      "[5, 0.2, 0.8, 8, 0]\n"
     ]
    }
   ],
   "source": [
    "hidden_sizes = [5]\n",
    "learning_rates = [0.2]\n",
    "momentums = [0.8]\n",
    "batch_sizes = [8]\n",
    "reg_coeffs = [0]\n",
    "\n",
    "\n",
    "best_hp = perform_kfold(hidden_sizes, learning_rates, momentums, batch_sizes, reg_coeffs, k_folds=5, x=x_train, y=y_train, plot_curves=False)"
   ]
  },
  {
   "cell_type": "code",
   "execution_count": 22,
   "metadata": {},
   "outputs": [
    {
     "name": "stdout",
     "output_type": "stream",
     "text": [
      "N. Epochs = 52 - Loss (train | test)= (0.001085 | 0.001785) - Accuracy (train | test) = (1.0 | 1.0)\n"
     ]
    },
    {
     "data": {
      "image/png": "[encoded data removed]",
      "text/plain": [
       "<Figure size 1200x400 with 2 Axes>"
      ]
     },
     "metadata": {},
     "output_type": "display_data"
    },
    {
     "data": {
      "text/plain": [
       "(52, 0.0010854371612367686, 0.0017850210672434143, 1.0, 1.0)"
      ]
     },
     "execution_count": 22,
     "metadata": {},
     "output_type": "execute_result"
    }
   ],
   "source": [
    "# train the model on all the test set using the best hyperparameters found\n",
    "\n",
    "training_model(x_train=x_train,\n",
    "               y_train=y_train,\n",
    "               x_test=x_test,\n",
    "               y_test=y_test,\n",
    "               hidden_size=best_hp[0],\n",
    "               learning_rate=best_hp[1],\n",
    "               momentum=best_hp[2],\n",
    "               bs = best_hp[3],\n",
    "               reg_coeff= best_hp[4],\n",
    "               plot_curves=True)"
   ]
  }
 ],
 "metadata": {
  "kernelspec": {
   "display_name": "env_ml",
   "language": "python",
   "name": "python3"
  },
  "language_info": {
   "codemirror_mode": {
    "name": "ipython",
    "version": 3
   },
   "file_extension": ".py",
   "mimetype": "text/x-python",
   "name": "python",
   "nbconvert_exporter": "python",
   "pygments_lexer": "ipython3",
   "version": "3.10.12"
  }
 },
 "nbformat": 4,
 "nbformat_minor": 2
}
